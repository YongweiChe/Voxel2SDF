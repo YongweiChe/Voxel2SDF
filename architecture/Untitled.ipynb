{
 "cells": [
  {
   "cell_type": "code",
   "execution_count": 5,
   "id": "ff84b71c",
   "metadata": {},
   "outputs": [],
   "source": [
    "## PyTorch\n",
    "import torch\n",
    "import torch.nn as nn\n",
    "import torch.nn.functional as F\n",
    "import torch.utils.data as data\n",
    "import torch.optim as optim\n"
   ]
  },
  {
   "cell_type": "code",
   "execution_count": 6,
   "id": "14798641",
   "metadata": {},
   "outputs": [],
   "source": [
    "class Encoder(nn.Module):\n",
    "\n",
    "    def __init__(self,\n",
    "                 num_input_channels : int,\n",
    "                 base_channel_size : int,\n",
    "                 latent_dim : int,\n",
    "                 act_fn : object = nn.GELU):\n",
    "        \"\"\"\n",
    "        Inputs:\n",
    "            - num_input_channels : Number of input channels of the image. For CIFAR, this parameter is 3\n",
    "            - base_channel_size : Number of channels we use in the first convolutional layers. Deeper layers might use a duplicate of it.\n",
    "            - latent_dim : Dimensionality of latent representation z\n",
    "            - act_fn : Activation function used throughout the encoder network\n",
    "        \"\"\"\n",
    "        super().__init__()\n",
    "        c_hid = base_channel_size\n",
    "        self.net = nn.Sequential(\n",
    "            nn.Conv3d(num_input_channels, c_hid, kernel_size=3, padding=1, stride=2), # 32x32x32 => 16x16x16\n",
    "            act_fn(),\n",
    "            nn.Conv3d(c_hid, c_hid, kernel_size=3, padding=1),\n",
    "            act_fn(),\n",
    "            nn.Conv3d(c_hid, 2*c_hid, kernel_size=3, padding=1, stride=2), # 16x16x16 => 8x8x8\n",
    "            act_fn(),\n",
    "            nn.Conv3d(2*c_hid, 2*c_hid, kernel_size=3, padding=1),\n",
    "            act_fn(),\n",
    "            nn.Conv3d(2*c_hid, 2*c_hid, kernel_size=3, padding=1, stride=2), # 8x8x8 => 4x4x4\n",
    "            act_fn(),\n",
    "            nn.Flatten(), # Image grid to single feature vector\n",
    "            nn.Linear(2*8*8*8*c_hid, latent_dim)\n",
    "        )\n",
    "\n",
    "    def forward(self, x):\n",
    "        return self.net(x)\n"
   ]
  },
  {
   "cell_type": "code",
   "execution_count": 7,
   "id": "75e644be",
   "metadata": {},
   "outputs": [],
   "source": [
    "layer1 = Encoder(1, 3, 10)"
   ]
  },
  {
   "cell_type": "code",
   "execution_count": 8,
   "id": "3b2f3fd6",
   "metadata": {},
   "outputs": [
    {
     "data": {
      "text/plain": [
       "tensor([[-0.0044, -0.0051, -0.0221, -0.0036, -0.0023,  0.0142,  0.0048,  0.0170,\n",
       "          0.0242,  0.0036],\n",
       "        [-0.0013, -0.0046, -0.0215, -0.0026, -0.0013,  0.0148,  0.0043,  0.0193,\n",
       "          0.0231,  0.0064],\n",
       "        [-0.0037, -0.0044, -0.0230, -0.0023, -0.0020,  0.0141,  0.0077,  0.0162,\n",
       "          0.0231,  0.0051],\n",
       "        [-0.0025, -0.0043, -0.0240, -0.0008, -0.0019,  0.0120,  0.0031,  0.0175,\n",
       "          0.0256,  0.0046],\n",
       "        [-0.0037, -0.0042, -0.0238, -0.0024, -0.0021,  0.0123,  0.0046,  0.0195,\n",
       "          0.0231,  0.0047],\n",
       "        [-0.0033, -0.0020, -0.0232, -0.0033, -0.0020,  0.0133,  0.0046,  0.0166,\n",
       "          0.0256,  0.0042],\n",
       "        [-0.0037, -0.0035, -0.0220, -0.0020, -0.0039,  0.0154,  0.0062,  0.0192,\n",
       "          0.0229,  0.0047],\n",
       "        [-0.0025, -0.0046, -0.0228, -0.0030, -0.0041,  0.0133,  0.0058,  0.0172,\n",
       "          0.0227,  0.0046],\n",
       "        [-0.0024, -0.0022, -0.0209, -0.0039, -0.0017,  0.0133,  0.0043,  0.0171,\n",
       "          0.0238,  0.0069],\n",
       "        [-0.0045, -0.0038, -0.0235, -0.0036, -0.0032,  0.0123,  0.0034,  0.0176,\n",
       "          0.0234,  0.0065],\n",
       "        [-0.0053, -0.0019, -0.0216, -0.0012, -0.0038,  0.0126,  0.0053,  0.0174,\n",
       "          0.0244,  0.0087],\n",
       "        [-0.0016, -0.0051, -0.0230, -0.0019, -0.0042,  0.0134,  0.0043,  0.0172,\n",
       "          0.0248,  0.0057],\n",
       "        [-0.0045, -0.0035, -0.0230, -0.0011, -0.0051,  0.0146,  0.0058,  0.0169,\n",
       "          0.0243,  0.0045],\n",
       "        [-0.0031, -0.0034, -0.0225, -0.0035, -0.0040,  0.0133,  0.0054,  0.0169,\n",
       "          0.0230,  0.0044],\n",
       "        [-0.0046, -0.0025, -0.0224, -0.0031, -0.0010,  0.0153,  0.0053,  0.0154,\n",
       "          0.0225,  0.0048],\n",
       "        [-0.0040, -0.0032, -0.0221, -0.0036, -0.0040,  0.0148,  0.0046,  0.0184,\n",
       "          0.0235,  0.0051]], grad_fn=<AddmmBackward0>)"
      ]
     },
     "execution_count": 8,
     "metadata": {},
     "output_type": "execute_result"
    }
   ],
   "source": [
    "data = torch.randn(16, 1, 64, 64, 64)\n",
    "\n",
    "layer1.forward(data)"
   ]
  },
  {
   "cell_type": "code",
   "execution_count": 9,
   "id": "9f459815",
   "metadata": {},
   "outputs": [],
   "source": [
    "\n",
    "class Decoder(nn.Module):\n",
    "    def __init__(\n",
    "        self,\n",
    "        latent_size,\n",
    "        dims,\n",
    "        dropout=None,\n",
    "        dropout_prob=0.0,\n",
    "        norm_layers=(),\n",
    "        latent_in=(),\n",
    "        weight_norm=False,\n",
    "        xyz_in_all=None,\n",
    "        use_tanh=False,\n",
    "        latent_dropout=False,\n",
    "    ):\n",
    "        super(Decoder, self).__init__()\n",
    "\n",
    "        def make_sequence():\n",
    "            return []\n",
    "\n",
    "        dims = [latent_size + 3] + dims + [1]\n",
    "\n",
    "        self.num_layers = len(dims)\n",
    "        self.norm_layers = norm_layers\n",
    "        self.latent_in = latent_in\n",
    "        self.latent_dropout = latent_dropout\n",
    "        if self.latent_dropout:\n",
    "            self.lat_dp = nn.Dropout(0.2)\n",
    "\n",
    "        self.xyz_in_all = xyz_in_all\n",
    "        self.weight_norm = weight_norm\n",
    "\n",
    "        for layer in range(0, self.num_layers - 1):\n",
    "            if layer + 1 in latent_in:\n",
    "                out_dim = dims[layer + 1] - dims[0]\n",
    "            else:\n",
    "                out_dim = dims[layer + 1]\n",
    "                if self.xyz_in_all and layer != self.num_layers - 2:\n",
    "                    out_dim -= 3\n",
    "\n",
    "            if weight_norm and layer in self.norm_layers:\n",
    "                setattr(\n",
    "                    self,\n",
    "                    \"lin\" + str(layer),\n",
    "                    nn.utils.weight_norm(nn.Linear(dims[layer], out_dim)),\n",
    "                )\n",
    "            else:\n",
    "                setattr(self, \"lin\" + str(layer), nn.Linear(dims[layer], out_dim))\n",
    "\n",
    "            if (\n",
    "                (not weight_norm)\n",
    "                and self.norm_layers is not None\n",
    "                and layer in self.norm_layers\n",
    "            ):\n",
    "                setattr(self, \"bn\" + str(layer), nn.LayerNorm(out_dim))\n",
    "\n",
    "        self.use_tanh = use_tanh\n",
    "        if use_tanh:\n",
    "            self.tanh = nn.Tanh()\n",
    "        self.relu = nn.ReLU()\n",
    "\n",
    "        self.dropout_prob = dropout_prob\n",
    "        self.dropout = dropout\n",
    "        self.th = nn.Tanh()\n",
    "    \n",
    "    # input: N x (L+3)\n",
    "    def forward(self, input):\n",
    "        xyz = input[:, -3:]\n",
    "\n",
    "        if input.shape[1] > 3 and self.latent_dropout:\n",
    "            latent_vecs = input[:, :-3]\n",
    "            latent_vecs = F.dropout(latent_vecs, p=0.2, training=self.training)\n",
    "            x = torch.cat([latent_vecs, xyz], 1)\n",
    "        else:\n",
    "            x = input\n",
    "\n",
    "        for layer in range(0, self.num_layers - 1):\n",
    "            lin = getattr(self, \"lin\" + str(layer))\n",
    "            if layer in self.latent_in:\n",
    "                x = torch.cat([x, input], 1)\n",
    "            elif layer != 0 and self.xyz_in_all:\n",
    "                x = torch.cat([x, xyz], 1)\n",
    "            x = lin(x)\n",
    "            # last layer Tanh\n",
    "            if layer == self.num_layers - 2 and self.use_tanh:\n",
    "                x = self.tanh(x)\n",
    "            if layer < self.num_layers - 2:\n",
    "                if (\n",
    "                    self.norm_layers is not None\n",
    "                    and layer in self.norm_layers\n",
    "                    and not self.weight_norm\n",
    "                ):\n",
    "                    bn = getattr(self, \"bn\" + str(layer))\n",
    "                    x = bn(x)\n",
    "                x = self.relu(x)\n",
    "                if self.dropout is not None and layer in self.dropout:\n",
    "                    x = F.dropout(x, p=self.dropout_prob, training=self.training)\n",
    "\n",
    "        if hasattr(self, \"th\"):\n",
    "            x = self.th(x)\n",
    "\n",
    "        return x"
   ]
  },
  {
   "cell_type": "code",
   "execution_count": 10,
   "id": "3c1f7194",
   "metadata": {},
   "outputs": [
    {
     "data": {
      "text/plain": [
       "torch.Size([1, 19])"
      ]
     },
     "execution_count": 10,
     "metadata": {},
     "output_type": "execute_result"
    }
   ],
   "source": [
    "decode_layer = Decoder(16, [32,64,64,128])\n",
    "\n",
    "torch.randn((1,19)).shape"
   ]
  },
  {
   "cell_type": "code",
   "execution_count": 11,
   "id": "10825a41",
   "metadata": {},
   "outputs": [
    {
     "data": {
      "text/plain": [
       "tensor([[0.0643]], grad_fn=<TanhBackward0>)"
      ]
     },
     "execution_count": 11,
     "metadata": {},
     "output_type": "execute_result"
    }
   ],
   "source": [
    "decode_layer(torch.randn((1,19)))"
   ]
  },
  {
   "cell_type": "code",
   "execution_count": 12,
   "id": "caeb55c9",
   "metadata": {},
   "outputs": [
    {
     "data": {
      "text/plain": [
       "tensor([[-1.1312,  0.5227, -0.1918]])"
      ]
     },
     "execution_count": 12,
     "metadata": {},
     "output_type": "execute_result"
    }
   ],
   "source": [
    "torch.randn((1,19))[:,-3:]"
   ]
  },
  {
   "cell_type": "code",
   "execution_count": 13,
   "id": "aefdb251",
   "metadata": {},
   "outputs": [
    {
     "data": {
      "text/plain": [
       "<generator object Module.parameters at 0x7fc7c94fcc10>"
      ]
     },
     "execution_count": 13,
     "metadata": {},
     "output_type": "execute_result"
    }
   ],
   "source": [
    "decode_layer.parameters()"
   ]
  },
  {
   "cell_type": "code",
   "execution_count": 14,
   "id": "a4c55804",
   "metadata": {},
   "outputs": [],
   "source": [
    "enc = Encoder(1, 3, 8)  # num input channels, base channel size, latent dim\n",
    "dec = Decoder(8, [16,64,64,128])\n",
    "\n",
    "N = 4\n",
    "\n",
    "x = torch.randn(N, 1, 64, 64, 64)\n",
    "\n",
    "z = enc.forward(x)\n",
    "\n",
    "xyz = torch.randn(N, 3) + 10\n",
    "z_hat = torch.cat((z,xyz), dim=1)\n",
    "\n",
    "sdf = dec.forward(z_hat)"
   ]
  },
  {
   "cell_type": "code",
   "execution_count": 15,
   "id": "98715545",
   "metadata": {},
   "outputs": [],
   "source": [
    "\n",
    "def loss(x, x_hat, delta=0.01):\n",
    "    return torch.sum(x - x_hat)"
   ]
  },
  {
   "cell_type": "code",
   "execution_count": 16,
   "id": "78e8c904",
   "metadata": {},
   "outputs": [
    {
     "data": {
      "text/plain": [
       "tensor(6)"
      ]
     },
     "execution_count": 16,
     "metadata": {},
     "output_type": "execute_result"
    }
   ],
   "source": [
    "torch.sum(torch.tensor([1,2,3]))"
   ]
  },
  {
   "cell_type": "code",
   "execution_count": 17,
   "id": "1c5972d9",
   "metadata": {},
   "outputs": [
    {
     "name": "stdout",
     "output_type": "stream",
     "text": [
      "515000\n"
     ]
    }
   ],
   "source": [
    "from datasets import VoxelSDFDataset\n",
    "\n",
    "data = VoxelSDFDataset()\n",
    "print(len(data))\n",
    "\n",
    "training_set, validation_set = torch.utils.data.random_split(data, [400, len(data) - 400])\n",
    "\n",
    "training_loader = torch.utils.data.DataLoader(training_set, batch_size=8, shuffle=True)\n",
    "validation_loader = torch.utils.data.DataLoader(validation_set, batch_size=8, shuffle=False)"
   ]
  },
  {
   "cell_type": "code",
   "execution_count": 30,
   "id": "326d85ae",
   "metadata": {},
   "outputs": [],
   "source": [
    "VoxelEncoder = Encoder(1, 3, 8)\n",
    "VoxelDecoder = Decoder(8, [16,32,32,64])\n",
    "\n",
    "encoder_optimizer = optim.Adam(VoxelEncoder.parameters(), lr=0.0001)\n",
    "decoder_optimizer = optim.Adam(VoxelDecoder.parameters(), lr=0.0001)\n",
    "\n",
    "def train_one_epoch(epoch_index, clamp_delta):\n",
    "    for i, data in enumerate(training_loader):\n",
    "        \n",
    "        encoder_optimizer.zero_grad()\n",
    "        decoder_optimizer.zero_grad()\n",
    "        voxel_data, [grid, near, surf] = data\n",
    "        \n",
    "        loss = 0\n",
    "        \n",
    "        for i, voxel in enumerate(voxel_data):\n",
    "            vox_obj = voxel[None, None,:,:,:].float() # [1, 1, 64, 64, 64]\n",
    "            latents = VoxelEncoder(vox_obj)\n",
    "            \n",
    "            def computeLoss(points, sdfs):\n",
    "                l = 0\n",
    "                for i in range(len(points)):\n",
    "                    p = points[None, i,]\n",
    "                    sdf = sdfs[i,]\n",
    "                    z = torch.cat((latents, p), dim=1)\n",
    "                    sdf_hat = VoxelDecoder(z.float())\n",
    "\n",
    "                    l += abs(torch.clamp(sdf_hat - sdf, min=-clamp_delta, max=clamp_delta))\n",
    "                return l\n",
    "\n",
    "            loss += computeLoss(grid[0][i,], grid[1][i,])\n",
    "            loss += computeLoss(near[0][i,], near[1][i,])\n",
    "            loss += computeLoss(surf[0][i,], surf[1][i,])\n",
    "\n",
    "        print(f'LOSS: {loss}')\n",
    "\n",
    "        loss.backward()\n",
    "        \n",
    "        encoder_optimizer.step()\n",
    "        decoder_optimizer.step()\n",
    "\n"
   ]
  },
  {
   "cell_type": "code",
   "execution_count": 31,
   "id": "0d729721",
   "metadata": {},
   "outputs": [
    {
     "name": "stdout",
     "output_type": "stream",
     "text": [
      "EPOCH 1:\n",
      "LOSS: tensor([[292.5618]], grad_fn=<AddBackward0>)\n",
      "LOSS: tensor([[285.5284]], grad_fn=<AddBackward0>)\n",
      "LOSS: tensor([[288.6871]], grad_fn=<AddBackward0>)\n",
      "LOSS: tensor([[285.1157]], grad_fn=<AddBackward0>)\n",
      "LOSS: tensor([[289.7173]], grad_fn=<AddBackward0>)\n",
      "LOSS: tensor([[286.1173]], grad_fn=<AddBackward0>)\n",
      "LOSS: tensor([[280.6072]], grad_fn=<AddBackward0>)\n",
      "LOSS: tensor([[285.1335]], grad_fn=<AddBackward0>)\n",
      "LOSS: tensor([[288.5634]], grad_fn=<AddBackward0>)\n",
      "LOSS: tensor([[281.9569]], grad_fn=<AddBackward0>)\n",
      "LOSS: tensor([[280.0135]], grad_fn=<AddBackward0>)\n",
      "LOSS: tensor([[278.1961]], grad_fn=<AddBackward0>)\n",
      "LOSS: tensor([[276.2312]], grad_fn=<AddBackward0>)\n",
      "LOSS: tensor([[281.4836]], grad_fn=<AddBackward0>)\n",
      "LOSS: tensor([[273.8387]], grad_fn=<AddBackward0>)\n",
      "LOSS: tensor([[273.7753]], grad_fn=<AddBackward0>)\n",
      "LOSS: tensor([[274.9701]], grad_fn=<AddBackward0>)\n",
      "LOSS: tensor([[266.0597]], grad_fn=<AddBackward0>)\n",
      "LOSS: tensor([[264.1991]], grad_fn=<AddBackward0>)\n",
      "LOSS: tensor([[265.7268]], grad_fn=<AddBackward0>)\n",
      "LOSS: tensor([[260.3679]], grad_fn=<AddBackward0>)\n",
      "LOSS: tensor([[263.0952]], grad_fn=<AddBackward0>)\n",
      "LOSS: tensor([[262.2950]], grad_fn=<AddBackward0>)\n",
      "LOSS: tensor([[262.1682]], grad_fn=<AddBackward0>)\n",
      "LOSS: tensor([[257.5831]], grad_fn=<AddBackward0>)\n",
      "LOSS: tensor([[255.3267]], grad_fn=<AddBackward0>)\n",
      "LOSS: tensor([[261.9815]], grad_fn=<AddBackward0>)\n",
      "LOSS: tensor([[261.1105]], grad_fn=<AddBackward0>)\n",
      "LOSS: tensor([[260.4156]], grad_fn=<AddBackward0>)\n",
      "LOSS: tensor([[254.7455]], grad_fn=<AddBackward0>)\n",
      "LOSS: tensor([[253.0348]], grad_fn=<AddBackward0>)\n",
      "LOSS: tensor([[244.0917]], grad_fn=<AddBackward0>)\n",
      "LOSS: tensor([[250.1021]], grad_fn=<AddBackward0>)\n",
      "LOSS: tensor([[255.6701]], grad_fn=<AddBackward0>)\n",
      "LOSS: tensor([[247.4133]], grad_fn=<AddBackward0>)\n",
      "LOSS: tensor([[245.1892]], grad_fn=<AddBackward0>)\n",
      "LOSS: tensor([[244.9834]], grad_fn=<AddBackward0>)\n",
      "LOSS: tensor([[245.1754]], grad_fn=<AddBackward0>)\n",
      "LOSS: tensor([[248.9528]], grad_fn=<AddBackward0>)\n",
      "LOSS: tensor([[238.6995]], grad_fn=<AddBackward0>)\n",
      "LOSS: tensor([[242.4407]], grad_fn=<AddBackward0>)\n",
      "LOSS: tensor([[242.4591]], grad_fn=<AddBackward0>)\n",
      "LOSS: tensor([[242.1523]], grad_fn=<AddBackward0>)\n",
      "LOSS: tensor([[235.9065]], grad_fn=<AddBackward0>)\n",
      "LOSS: tensor([[235.4349]], grad_fn=<AddBackward0>)\n",
      "LOSS: tensor([[237.1139]], grad_fn=<AddBackward0>)\n",
      "LOSS: tensor([[231.1678]], grad_fn=<AddBackward0>)\n",
      "LOSS: tensor([[233.6377]], grad_fn=<AddBackward0>)\n",
      "LOSS: tensor([[226.4555]], grad_fn=<AddBackward0>)\n",
      "LOSS: tensor([[226.0472]], grad_fn=<AddBackward0>)\n",
      "EPOCH 1:\n",
      "LOSS: tensor([[229.4915]], grad_fn=<AddBackward0>)\n",
      "LOSS: tensor([[225.3206]], grad_fn=<AddBackward0>)\n",
      "LOSS: tensor([[231.5219]], grad_fn=<AddBackward0>)\n",
      "LOSS: tensor([[229.2093]], grad_fn=<AddBackward0>)\n",
      "LOSS: tensor([[217.2267]], grad_fn=<AddBackward0>)\n"
     ]
    },
    {
     "ename": "KeyboardInterrupt",
     "evalue": "",
     "output_type": "error",
     "traceback": [
      "\u001b[0;31m---------------------------------------------------------------------------\u001b[0m",
      "\u001b[0;31mKeyboardInterrupt\u001b[0m                         Traceback (most recent call last)",
      "Cell \u001b[0;32mIn[31], line 14\u001b[0m\n\u001b[1;32m     12\u001b[0m VoxelEncoder\u001b[38;5;241m.\u001b[39mtrain(\u001b[38;5;28;01mTrue\u001b[39;00m)\n\u001b[1;32m     13\u001b[0m VoxelDecoder\u001b[38;5;241m.\u001b[39mtrain(\u001b[38;5;28;01mTrue\u001b[39;00m)\n\u001b[0;32m---> 14\u001b[0m avg_loss \u001b[38;5;241m=\u001b[39m \u001b[43mtrain_one_epoch\u001b[49m\u001b[43m(\u001b[49m\u001b[43mepoch_number\u001b[49m\u001b[43m,\u001b[49m\u001b[43m \u001b[49m\u001b[38;5;241;43m0.25\u001b[39;49m\u001b[43m)\u001b[49m\n\u001b[1;32m     16\u001b[0m \u001b[38;5;66;03m# We don't need gradients on to do reporting\u001b[39;00m\n\u001b[1;32m     17\u001b[0m VoxelEncoder\u001b[38;5;241m.\u001b[39mtrain(\u001b[38;5;28;01mFalse\u001b[39;00m)\n",
      "Cell \u001b[0;32mIn[30], line 32\u001b[0m, in \u001b[0;36mtrain_one_epoch\u001b[0;34m(epoch_index, clamp_delta)\u001b[0m\n\u001b[1;32m     29\u001b[0m         \u001b[38;5;28;01mreturn\u001b[39;00m l\n\u001b[1;32m     31\u001b[0m     loss \u001b[38;5;241m+\u001b[39m\u001b[38;5;241m=\u001b[39m computeLoss(grid[\u001b[38;5;241m0\u001b[39m][i,], grid[\u001b[38;5;241m1\u001b[39m][i,])\n\u001b[0;32m---> 32\u001b[0m     loss \u001b[38;5;241m+\u001b[39m\u001b[38;5;241m=\u001b[39m \u001b[43mcomputeLoss\u001b[49m\u001b[43m(\u001b[49m\u001b[43mnear\u001b[49m\u001b[43m[\u001b[49m\u001b[38;5;241;43m0\u001b[39;49m\u001b[43m]\u001b[49m\u001b[43m[\u001b[49m\u001b[43mi\u001b[49m\u001b[43m,\u001b[49m\u001b[43m]\u001b[49m\u001b[43m,\u001b[49m\u001b[43m \u001b[49m\u001b[43mnear\u001b[49m\u001b[43m[\u001b[49m\u001b[38;5;241;43m1\u001b[39;49m\u001b[43m]\u001b[49m\u001b[43m[\u001b[49m\u001b[43mi\u001b[49m\u001b[43m,\u001b[49m\u001b[43m]\u001b[49m\u001b[43m)\u001b[49m\n\u001b[1;32m     33\u001b[0m     loss \u001b[38;5;241m+\u001b[39m\u001b[38;5;241m=\u001b[39m computeLoss(surf[\u001b[38;5;241m0\u001b[39m][i,], surf[\u001b[38;5;241m1\u001b[39m][i,])\n\u001b[1;32m     35\u001b[0m \u001b[38;5;28mprint\u001b[39m(\u001b[38;5;124mf\u001b[39m\u001b[38;5;124m'\u001b[39m\u001b[38;5;124mLOSS: \u001b[39m\u001b[38;5;132;01m{\u001b[39;00mloss\u001b[38;5;132;01m}\u001b[39;00m\u001b[38;5;124m'\u001b[39m)\n",
      "Cell \u001b[0;32mIn[30], line 25\u001b[0m, in \u001b[0;36mtrain_one_epoch.<locals>.computeLoss\u001b[0;34m(points, sdfs)\u001b[0m\n\u001b[1;32m     23\u001b[0m p \u001b[38;5;241m=\u001b[39m points[\u001b[38;5;28;01mNone\u001b[39;00m, i,]\n\u001b[1;32m     24\u001b[0m sdf \u001b[38;5;241m=\u001b[39m sdfs[i,]\n\u001b[0;32m---> 25\u001b[0m z \u001b[38;5;241m=\u001b[39m \u001b[43mtorch\u001b[49m\u001b[38;5;241;43m.\u001b[39;49m\u001b[43mcat\u001b[49m\u001b[43m(\u001b[49m\u001b[43m(\u001b[49m\u001b[43mlatents\u001b[49m\u001b[43m,\u001b[49m\u001b[43m \u001b[49m\u001b[43mp\u001b[49m\u001b[43m)\u001b[49m\u001b[43m,\u001b[49m\u001b[43m \u001b[49m\u001b[43mdim\u001b[49m\u001b[38;5;241;43m=\u001b[39;49m\u001b[38;5;241;43m1\u001b[39;49m\u001b[43m)\u001b[49m\n\u001b[1;32m     26\u001b[0m sdf_hat \u001b[38;5;241m=\u001b[39m VoxelDecoder(z\u001b[38;5;241m.\u001b[39mfloat())\n\u001b[1;32m     28\u001b[0m l \u001b[38;5;241m+\u001b[39m\u001b[38;5;241m=\u001b[39m \u001b[38;5;28mabs\u001b[39m(torch\u001b[38;5;241m.\u001b[39mclamp(sdf_hat \u001b[38;5;241m-\u001b[39m sdf, \u001b[38;5;28mmin\u001b[39m\u001b[38;5;241m=\u001b[39m\u001b[38;5;241m-\u001b[39mclamp_delta, \u001b[38;5;28mmax\u001b[39m\u001b[38;5;241m=\u001b[39mclamp_delta))\n",
      "\u001b[0;31mKeyboardInterrupt\u001b[0m: "
     ]
    }
   ],
   "source": [
    "# Initializing in a separate cell so we can easily add more epochs to the same run\n",
    "epoch_number = 0\n",
    "\n",
    "EPOCHS = 5\n",
    "\n",
    "best_vloss = 1_000_000.\n",
    "\n",
    "for epoch in range(EPOCHS):\n",
    "    print('EPOCH {}:'.format(epoch_number + 1))\n",
    "\n",
    "    # Make sure gradient tracking is on, and do a pass over the data\n",
    "    VoxelEncoder.train(True)\n",
    "    VoxelDecoder.train(True)\n",
    "    avg_loss = train_one_epoch(epoch_number, 0.25)\n",
    "\n",
    "    # We don't need gradients on to do reporting\n",
    "    VoxelEncoder.train(False)\n",
    "    VoxelDecoder.train(False)"
   ]
  },
  {
   "cell_type": "code",
   "execution_count": null,
   "id": "58059b68",
   "metadata": {},
   "outputs": [],
   "source": []
  }
 ],
 "metadata": {
  "kernelspec": {
   "display_name": "Python 3 (ipykernel)",
   "language": "python",
   "name": "python3"
  },
  "language_info": {
   "codemirror_mode": {
    "name": "ipython",
    "version": 3
   },
   "file_extension": ".py",
   "mimetype": "text/x-python",
   "name": "python",
   "nbconvert_exporter": "python",
   "pygments_lexer": "ipython3",
   "version": "3.10.9"
  }
 },
 "nbformat": 4,
 "nbformat_minor": 5
}
